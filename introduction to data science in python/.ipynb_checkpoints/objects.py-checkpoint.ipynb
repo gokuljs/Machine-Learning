{
 "cells": [
  {
   "cell_type": "code",
   "execution_count": 1,
   "metadata": {},
   "outputs": [],
   "source": [
    "#revising objects and class "
   ]
  },
  {
   "cell_type": "code",
   "execution_count": 2,
   "metadata": {},
   "outputs": [],
   "source": [
    "# real world object have atributes and capabilities \n",
    "#  in classes and objects attributes are called fileds and capabilities are called methods \n"
   ]
  },
  {
   "cell_type": "code",
   "execution_count": null,
   "metadata": {},
   "outputs": [],
   "source": [
    "class dog:\n",
    "    # we are using init method to initialize the values\n",
    "    # defining the attributes of the dogs       \n",
    "    def _init_(self,name=\"\",height=0,width=0):\n",
    "        self.name=name\n",
    "        self.height=height\n",
    "        self.width=width\n",
    "        \n",
    "    def run(self):\n",
    "        print(\"this gog can run{}\".format(self.name))\n",
    "        "
   ]
  }
 ],
 "metadata": {
  "kernelspec": {
   "display_name": "Python 3",
   "language": "python",
   "name": "python3"
  },
  "language_info": {
   "codemirror_mode": {
    "name": "ipython",
    "version": 3
   },
   "file_extension": ".py",
   "mimetype": "text/x-python",
   "name": "python",
   "nbconvert_exporter": "python",
   "pygments_lexer": "ipython3",
   "version": "3.8.3"
  }
 },
 "nbformat": 4,
 "nbformat_minor": 4
}
