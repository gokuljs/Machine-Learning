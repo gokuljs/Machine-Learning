{
 "cells": [
  {
   "cell_type": "code",
   "execution_count": 1,
   "metadata": {},
   "outputs": [],
   "source": [
    "#revising objects and class "
   ]
  },
  {
   "cell_type": "code",
   "execution_count": 2,
   "metadata": {},
   "outputs": [],
   "source": [
    "# real world object have atributes and capabilities \n",
    "#  in classes and objects attributes are called fileds and capabilities are called methods \n"
   ]
  },
  {
   "cell_type": "code",
   "execution_count": 11,
   "metadata": {},
   "outputs": [
    {
     "name": "stdout",
     "output_type": "stream",
     "text": [
      "this gog can runhuile\n",
      "huile this dog can bark\n",
      " this dog can bark\n"
     ]
    }
   ],
   "source": [
    "class Dog:\n",
    "    # we are using init method to initialize the values\n",
    "    # defining the attributes of the dogs       \n",
    "    def __init__(self,name=\"\",height=0,width=0):\n",
    "        self.name=name\n",
    "        self.height=height\n",
    "        self.width=width\n",
    "        \n",
    "    def run(self):\n",
    "        print(\"this gog can run{}\".format(self.name))\n",
    "    def eat(self):\n",
    "        print(\"{} this dog is eating\".format(self.name))\n",
    "    def bark(self):\n",
    "        print(\"{} this dog can bark\".format(self.name))\n",
    "\n",
    "def main():\n",
    "#     creating a new dog object \n",
    "    spot=Dog(\"huile\",30,40)\n",
    "    spot.run()\n",
    "    spot.bark()\n",
    "    bow=Dog()\n",
    "    bow.bark()\n",
    "        \n",
    "main() # main function is the place where all the program starts "
   ]
  },
  {
   "cell_type": "code",
   "execution_count": null,
   "metadata": {},
   "outputs": [],
   "source": [
    "# getters and setters in python \n",
    "# getters and setters are used to stop assign bad filed values "
   ]
  },
  {
   "cell_type": "code",
   "execution_count": null,
   "metadata": {},
   "outputs": [],
   "source": [
    "class Square:\n",
    "    def __init__(self,height=0,width=0):\n",
    "        self.height=height\n",
    "        self.width=width\n",
    "    @property\n",
    "    def heigh(self):\n",
    "        prin(\"retriving the height\")\n",
    "        return __self.height # this is the private field in\n",
    "        "
   ]
  },
  {
   "cell_type": "code",
   "execution_count": null,
   "metadata": {},
   "outputs": [],
   "source": []
  },
  {
   "cell_type": "code",
   "execution_count": null,
   "metadata": {},
   "outputs": [],
   "source": []
  },
  {
   "cell_type": "code",
   "execution_count": null,
   "metadata": {},
   "outputs": [],
   "source": []
  },
  {
   "cell_type": "code",
   "execution_count": null,
   "metadata": {},
   "outputs": [],
   "source": []
  },
  {
   "cell_type": "code",
   "execution_count": null,
   "metadata": {},
   "outputs": [],
   "source": []
  },
  {
   "cell_type": "code",
   "execution_count": null,
   "metadata": {},
   "outputs": [],
   "source": []
  },
  {
   "cell_type": "code",
   "execution_count": null,
   "metadata": {},
   "outputs": [],
   "source": []
  },
  {
   "cell_type": "code",
   "execution_count": null,
   "metadata": {},
   "outputs": [],
   "source": []
  }
 ],
 "metadata": {
  "kernelspec": {
   "display_name": "Python 3",
   "language": "python",
   "name": "python3"
  },
  "language_info": {
   "codemirror_mode": {
    "name": "ipython",
    "version": 3
   },
   "file_extension": ".py",
   "mimetype": "text/x-python",
   "name": "python",
   "nbconvert_exporter": "python",
   "pygments_lexer": "ipython3",
   "version": "3.8.3"
  }
 },
 "nbformat": 4,
 "nbformat_minor": 4
}
